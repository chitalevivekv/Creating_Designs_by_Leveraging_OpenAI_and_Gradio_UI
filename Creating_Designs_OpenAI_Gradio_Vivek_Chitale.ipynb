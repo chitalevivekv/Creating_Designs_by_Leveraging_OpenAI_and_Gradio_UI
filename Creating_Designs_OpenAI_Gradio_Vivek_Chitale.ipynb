{
 "cells": [
  {
   "cell_type": "markdown",
   "id": "d029c1b4-eaec-44b1-b58e-78ee6a126166",
   "metadata": {
    "panel-layout": {
     "height": 120.922,
     "visible": true,
     "width": 100
    }
   },
   "source": [
    "# Advanced Generative AI Project- Creating Designs by Leveraging OpenAI and Gradio UI \n",
    "## Submitted by- Vivek Chitale"
   ]
  },
  {
   "cell_type": "markdown",
   "id": "e88476b5-21d2-4247-82bd-622807fde295",
   "metadata": {
    "panel-layout": {
     "height": 856.078,
     "visible": true,
     "width": 100
    }
   },
   "source": [
    "#### Problem Statement: \n",
    "\n",
    "### Overview \n",
    "In this project, you will explore the transformative potential of OpenAI's API and Gradio UI in \n",
    "the creative design industry. The project outlines hypothetical scenarios to demonstrate AI's \n",
    "ability to generate images from text prompts. These scenarios offer a glimpse into a future \n",
    "where technology enhances creativity. \n",
    "\n",
    "### Instructions \n",
    "• Review the learning materials and the Gradio documentation provided for the project.\n",
    "• Read the sections on situation, task, action, and result carefully to understand the \n",
    "assignment.\n",
    "• Complete and submit your assignment through the Learning Management System \n",
    "(LMS).\n",
    "• Adhere closely to the provided guidelines, ensuring your submission contains all \n",
    "necessary analyses and interpretations.\n",
    "\n",
    "### Situation \n",
    "You work as a designer at a cutting-edge creative agency. Your task involves revolutionizing \n",
    "visual content creation for digital marketing campaigns, especially for high-profile clients such \n",
    "as Netflix. You have access to an innovative web-based platform. This platform combines \n",
    "OpenAI's API with Gradio's web interface.\n",
    "\n",
    "### Task \n",
    "Your task is to create a platform that generates bespoke images and designs for banners and \n",
    "posters by entering text prompts. By leveraging the capabilities of OpenAI's DALL-E, you aim \n",
    "to transform abstract ideas into tangible, visually compelling designs. These designs will \n",
    "captivate audiences and enhance promotional efforts for Netflix's latest campaigns.\n",
    " \n",
    "### Action \n",
    "• Import essential libraries such as Gradio for building web interfaces for machine \n",
    "learning models, the requests library for fetching image data via HTTP requests, the \n",
    "Python Imaging Library (PIL) for image processing, io.BytesIO for managing binary data \n",
    "streams, and the OpenAI library for accessing the OpenAI API. These libraries \n",
    "collectively enable the transformation of text prompts into images.\n",
    "• Create a function named generate_image to oversee the image generation process \n",
    "using text prompts.\n",
    "• Set up the Gradio interface using gr.Interface, including a textbox for text prompt \n",
    "input and an image display for showcasing generated images.\n",
    "• Launch the Gradio interface to make it available for user interaction.\n",
    " \n",
    "### Result \n",
    "Upon completing this project, you will submit an IPYNB file. This file will showcase the \n",
    "innovative potential of integrating OpenAI's API and Gradio UI in the creative design industry. \n",
    "It focuses on generating customized visual content for Netflix campaigns"
   ]
  },
  {
   "cell_type": "code",
   "execution_count": 3,
   "id": "0229ce98-c487-4159-92c5-bd4afe6682b5",
   "metadata": {},
   "outputs": [],
   "source": [
    "#Importing libs\n",
    "import openai\n",
    "import os\n",
    "from dotenv import load_dotenv\n",
    "load_dotenv()\n",
    "import io\n",
    "import requests\n",
    "import gradio as gr\n",
    "from PIL import Image\n",
    "from io import BytesIO"
   ]
  },
  {
   "cell_type": "code",
   "execution_count": 4,
   "id": "9f73aadc-3c48-41aa-9b19-8cfe09d6c163",
   "metadata": {},
   "outputs": [],
   "source": [
    "# Get the OpenAI API Key (keeping in .env file for safety of the key and not exposing it to outside world)\n",
    "api_key = os.getenv(\"OPENAI_API_KEY\")"
   ]
  },
  {
   "cell_type": "markdown",
   "id": "2f8fc9c6-dfe9-409f-ac07-d907d99fba97",
   "metadata": {
    "panel-layout": {
     "height": 43.2031,
     "visible": true,
     "width": 100
    }
   },
   "source": [
    "#### Create a function named generate_image to oversee the image generation process using text prompts.."
   ]
  },
  {
   "cell_type": "code",
   "execution_count": 6,
   "id": "75fa328b-28a8-40ea-868f-1145aa4126d9",
   "metadata": {},
   "outputs": [],
   "source": [
    "def generate_image(prompt):\n",
    "    try:\n",
    "        # Use the correct OpenAI API method for generating images\n",
    "        response = openai.images.generate(\n",
    "            model=\"dall-e-3\",  # Use \"dall-e-2\" if necessary\n",
    "            prompt=prompt,\n",
    "            size=\"1024x1024\",\n",
    "            quality=\"standard\",\n",
    "            n=1\n",
    "        )\n",
    "        \n",
    "        # Get the image URL from the response\n",
    "        image_url = response.data[0].url\n",
    "        \n",
    "        # Fetch and open the image\n",
    "        image_response = requests.get(image_url)\n",
    "        image = Image.open(io.BytesIO(image_response.content))\n",
    "        \n",
    "        return image\n",
    "    except Exception as e:\n",
    "        return f\"Error: {str(e)}\""
   ]
  },
  {
   "cell_type": "markdown",
   "id": "ab801693-09bc-4644-9f18-20c33a1c90de",
   "metadata": {
    "panel-layout": {
     "height": 43.2031,
     "visible": true,
     "width": 100
    }
   },
   "source": [
    "#### Set up the Gradio interface using gr.Interface, including a textbox for text prompt input and an image display for showcasing generated images."
   ]
  },
  {
   "cell_type": "code",
   "execution_count": 8,
   "id": "b1a62ff7-c264-437f-9ced-6e6cb9d7fd51",
   "metadata": {},
   "outputs": [],
   "source": [
    "# Create the Gradio interface\n",
    "interface = gr.Interface(\n",
    "    fn=generate_image,\n",
    "    inputs=gr.Textbox(label=\"Enter Prompt\"),\n",
    "    outputs=gr.Image(type=\"pil\", label=\"Generated Image\"),\n",
    "    title=\"Vivek_Chitale_Netflix_Text-to-Image Generator\",\n",
    "    description=\"Enter a prompt for generating customized visual content for Netflix campaigns\"\n",
    ")"
   ]
  },
  {
   "cell_type": "markdown",
   "id": "d72db467-9db0-4566-b06a-698b8f10b56a",
   "metadata": {
    "panel-layout": {
     "height": 43.2031,
     "visible": true,
     "width": 100
    }
   },
   "source": [
    "#### Launch the Gradio interface to make it available for user interaction."
   ]
  },
  {
   "cell_type": "code",
   "execution_count": 14,
   "id": "32d40738-ea4d-470f-b4e6-1386da1cd766",
   "metadata": {
    "panel-layout": {
     "height": 524.141,
     "visible": true,
     "width": 100
    }
   },
   "outputs": [
    {
     "name": "stdout",
     "output_type": "stream",
     "text": [
      "* Running on local URL:  http://127.0.0.1:7860\n",
      "\n",
      "To create a public link, set `share=True` in `launch()`.\n"
     ]
    },
    {
     "data": {
      "text/html": [
       "<div><iframe src=\"http://127.0.0.1:7860/\" width=\"100%\" height=\"500\" allow=\"autoplay; camera; microphone; clipboard-read; clipboard-write;\" frameborder=\"0\" allowfullscreen></iframe></div>"
      ],
      "text/plain": [
       "<IPython.core.display.HTML object>"
      ]
     },
     "metadata": {},
     "output_type": "display_data"
    },
    {
     "data": {
      "text/plain": []
     },
     "execution_count": 14,
     "metadata": {},
     "output_type": "execute_result"
    }
   ],
   "source": [
    "# Launch the app\n",
    "interface.launch()"
   ]
  },
  {
   "cell_type": "code",
   "execution_count": null,
   "id": "243579e2-7ba1-416a-9e14-cfcd27fab291",
   "metadata": {},
   "outputs": [],
   "source": []
  }
 ],
 "metadata": {
  "kernelspec": {
   "display_name": "Python 3 (ipykernel)",
   "language": "python",
   "name": "python3"
  },
  "language_info": {
   "codemirror_mode": {
    "name": "ipython",
    "version": 3
   },
   "file_extension": ".py",
   "mimetype": "text/x-python",
   "name": "python",
   "nbconvert_exporter": "python",
   "pygments_lexer": "ipython3",
   "version": "3.12.4"
  },
  "panel-cell-order": [
   "d029c1b4-eaec-44b1-b58e-78ee6a126166",
   "e88476b5-21d2-4247-82bd-622807fde295",
   "2f8fc9c6-dfe9-409f-ac07-d907d99fba97",
   "ab801693-09bc-4644-9f18-20c33a1c90de",
   "d72db467-9db0-4566-b06a-698b8f10b56a",
   "32d40738-ea4d-470f-b4e6-1386da1cd766"
  ]
 },
 "nbformat": 4,
 "nbformat_minor": 5
}
